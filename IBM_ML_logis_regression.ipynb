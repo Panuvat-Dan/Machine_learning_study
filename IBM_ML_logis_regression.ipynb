{
  "nbformat": 4,
  "nbformat_minor": 0,
  "metadata": {
    "colab": {
      "name": "IBM ML logis_regression.ipynb",
      "provenance": [],
      "collapsed_sections": [],
      "toc_visible": true,
      "include_colab_link": true
    },
    "kernelspec": {
      "name": "python3",
      "display_name": "Python 3"
    }
  },
  "cells": [
    {
      "cell_type": "markdown",
      "metadata": {
        "id": "view-in-github",
        "colab_type": "text"
      },
      "source": [
        "<a href=\"https://colab.research.google.com/github/Panuvat-Dan/Machine_learning_study/blob/main/IBM_ML_logis_regression.ipynb\" target=\"_parent\"><img src=\"https://colab.research.google.com/assets/colab-badge.svg\" alt=\"Open In Colab\"/></a>"
      ]
    },
    {
      "cell_type": "markdown",
      "metadata": {
        "id": "ay_vA7-UHng5"
      },
      "source": [
        "# 1.Data Preprocessing"
      ]
    },
    {
      "cell_type": "markdown",
      "metadata": {
        "id": "EoRP98MpR-qj"
      },
      "source": [
        "## 1.1Importing the libraries"
      ]
    },
    {
      "cell_type": "code",
      "metadata": {
        "id": "N-qiINBQSK2g"
      },
      "source": [
        "import numpy as np\n",
        "import matplotlib.pyplot as plt\n",
        "import pandas as pd\n",
        "import seaborn as sns"
      ],
      "execution_count": null,
      "outputs": []
    },
    {
      "cell_type": "markdown",
      "metadata": {
        "id": "RopL7tUZSQkT"
      },
      "source": [
        "## 1.2Importing the dataset"
      ]
    },
    {
      "cell_type": "code",
      "metadata": {
        "id": "WwEPNDWySTKm"
      },
      "source": [
        "dataset = pd.read_csv('IBM_sample_employee_dataset_csv.csv')\n",
        "X = dataset.iloc[:, :-1].values # independent column\n",
        "y = dataset.iloc[:, -1].values # target column"
      ],
      "execution_count": 214,
      "outputs": []
    },
    {
      "cell_type": "code",
      "metadata": {
        "id": "hCsz2yCebe1R",
        "colab": {
          "base_uri": "https://localhost:8080/"
        },
        "outputId": "b0d6b9c1-6ae0-410f-dca2-4449e293e233"
      },
      "source": [
        "print(X)"
      ],
      "execution_count": 194,
      "outputs": [
        {
          "output_type": "stream",
          "text": [
            "[[41 'Travel_Rarely' 1102 ... 4 0 5]\n",
            " [49 'Travel_Frequently' 279 ... 7 1 7]\n",
            " [37 'Travel_Rarely' 1373 ... 0 0 0]\n",
            " ...\n",
            " [27 'Travel_Rarely' 155 ... 2 0 3]\n",
            " [49 'Travel_Frequently' 1023 ... 6 0 8]\n",
            " [34 'Travel_Rarely' 628 ... 3 1 2]]\n"
          ],
          "name": "stdout"
        }
      ]
    },
    {
      "cell_type": "code",
      "metadata": {
        "id": "eYrOQ43XcJR3",
        "colab": {
          "base_uri": "https://localhost:8080/"
        },
        "outputId": "fdf21727-de62-42a3-bd42-7a7e3dc0625a"
      },
      "source": [
        "print(y)"
      ],
      "execution_count": 195,
      "outputs": [
        {
          "output_type": "stream",
          "text": [
            "['Yes' 'No' 'Yes' ... 'No' 'No' 'No']\n"
          ],
          "name": "stdout"
        }
      ]
    },
    {
      "cell_type": "markdown",
      "metadata": {
        "id": "aWFPKeThGWs7"
      },
      "source": [
        "## 1.3Data exploration"
      ]
    },
    {
      "cell_type": "markdown",
      "metadata": {
        "id": "J3hnUYiYGycQ"
      },
      "source": [
        "#### 1.3.1 Explore basic descriptive statistic"
      ]
    },
    {
      "cell_type": "code",
      "metadata": {
        "colab": {
          "base_uri": "https://localhost:8080/"
        },
        "id": "7shdseuXHSEH",
        "outputId": "1577ee6e-8fe4-49a8-f422-0960d558a9c1"
      },
      "source": [
        "dataset.shape"
      ],
      "execution_count": 215,
      "outputs": [
        {
          "output_type": "execute_result",
          "data": {
            "text/plain": [
              "(1470, 35)"
            ]
          },
          "metadata": {
            "tags": []
          },
          "execution_count": 215
        }
      ]
    },
    {
      "cell_type": "code",
      "metadata": {
        "colab": {
          "base_uri": "https://localhost:8080/",
          "height": 317
        },
        "id": "SCLgx6KUGf9Q",
        "outputId": "2774a186-9a2c-4e63-bbd4-4e0063d6606d"
      },
      "source": [
        "dataset.describe()"
      ],
      "execution_count": 197,
      "outputs": [
        {
          "output_type": "execute_result",
          "data": {
            "text/html": [
              "<div>\n",
              "<style scoped>\n",
              "    .dataframe tbody tr th:only-of-type {\n",
              "        vertical-align: middle;\n",
              "    }\n",
              "\n",
              "    .dataframe tbody tr th {\n",
              "        vertical-align: top;\n",
              "    }\n",
              "\n",
              "    .dataframe thead th {\n",
              "        text-align: right;\n",
              "    }\n",
              "</style>\n",
              "<table border=\"1\" class=\"dataframe\">\n",
              "  <thead>\n",
              "    <tr style=\"text-align: right;\">\n",
              "      <th></th>\n",
              "      <th>Age</th>\n",
              "      <th>DailyRate</th>\n",
              "      <th>DistanceFromHome</th>\n",
              "      <th>Education</th>\n",
              "      <th>EmployeeCount</th>\n",
              "      <th>EmployeeNumber</th>\n",
              "      <th>EnvironmentSatisfaction</th>\n",
              "      <th>HourlyRate</th>\n",
              "      <th>JobInvolvement</th>\n",
              "      <th>JobLevel</th>\n",
              "      <th>JobSatisfaction</th>\n",
              "      <th>MonthlyIncome</th>\n",
              "      <th>MonthlyRate</th>\n",
              "      <th>NumCompaniesWorked</th>\n",
              "      <th>PercentSalaryHike</th>\n",
              "      <th>PerformanceRating</th>\n",
              "      <th>RelationshipSatisfaction</th>\n",
              "      <th>StandardHours</th>\n",
              "      <th>StockOptionLevel</th>\n",
              "      <th>TotalWorkingYears</th>\n",
              "      <th>TrainingTimesLastYear</th>\n",
              "      <th>WorkLifeBalance</th>\n",
              "      <th>YearsAtCompany</th>\n",
              "      <th>YearsInCurrentRole</th>\n",
              "      <th>YearsSinceLastPromotion</th>\n",
              "      <th>YearsWithCurrManager</th>\n",
              "    </tr>\n",
              "  </thead>\n",
              "  <tbody>\n",
              "    <tr>\n",
              "      <th>count</th>\n",
              "      <td>1470.000000</td>\n",
              "      <td>1470.000000</td>\n",
              "      <td>1470.000000</td>\n",
              "      <td>1470.000000</td>\n",
              "      <td>1470.0</td>\n",
              "      <td>1470.000000</td>\n",
              "      <td>1470.000000</td>\n",
              "      <td>1470.000000</td>\n",
              "      <td>1470.000000</td>\n",
              "      <td>1470.000000</td>\n",
              "      <td>1470.000000</td>\n",
              "      <td>1470.000000</td>\n",
              "      <td>1470.000000</td>\n",
              "      <td>1470.000000</td>\n",
              "      <td>1470.000000</td>\n",
              "      <td>1470.000000</td>\n",
              "      <td>1470.000000</td>\n",
              "      <td>1470.0</td>\n",
              "      <td>1470.000000</td>\n",
              "      <td>1470.000000</td>\n",
              "      <td>1470.000000</td>\n",
              "      <td>1470.000000</td>\n",
              "      <td>1470.000000</td>\n",
              "      <td>1470.000000</td>\n",
              "      <td>1470.000000</td>\n",
              "      <td>1470.000000</td>\n",
              "    </tr>\n",
              "    <tr>\n",
              "      <th>mean</th>\n",
              "      <td>36.923810</td>\n",
              "      <td>802.485714</td>\n",
              "      <td>9.192517</td>\n",
              "      <td>2.912925</td>\n",
              "      <td>1.0</td>\n",
              "      <td>1024.865306</td>\n",
              "      <td>2.721769</td>\n",
              "      <td>65.891156</td>\n",
              "      <td>2.729932</td>\n",
              "      <td>2.063946</td>\n",
              "      <td>2.728571</td>\n",
              "      <td>6502.931293</td>\n",
              "      <td>14313.103401</td>\n",
              "      <td>2.693197</td>\n",
              "      <td>15.209524</td>\n",
              "      <td>3.153741</td>\n",
              "      <td>2.712245</td>\n",
              "      <td>80.0</td>\n",
              "      <td>0.793878</td>\n",
              "      <td>11.279592</td>\n",
              "      <td>2.799320</td>\n",
              "      <td>2.761224</td>\n",
              "      <td>7.008163</td>\n",
              "      <td>4.229252</td>\n",
              "      <td>2.187755</td>\n",
              "      <td>4.123129</td>\n",
              "    </tr>\n",
              "    <tr>\n",
              "      <th>std</th>\n",
              "      <td>9.135373</td>\n",
              "      <td>403.509100</td>\n",
              "      <td>8.106864</td>\n",
              "      <td>1.024165</td>\n",
              "      <td>0.0</td>\n",
              "      <td>602.024335</td>\n",
              "      <td>1.093082</td>\n",
              "      <td>20.329428</td>\n",
              "      <td>0.711561</td>\n",
              "      <td>1.106940</td>\n",
              "      <td>1.102846</td>\n",
              "      <td>4707.956783</td>\n",
              "      <td>7117.786044</td>\n",
              "      <td>2.498009</td>\n",
              "      <td>3.659938</td>\n",
              "      <td>0.360824</td>\n",
              "      <td>1.081209</td>\n",
              "      <td>0.0</td>\n",
              "      <td>0.852077</td>\n",
              "      <td>7.780782</td>\n",
              "      <td>1.289271</td>\n",
              "      <td>0.706476</td>\n",
              "      <td>6.126525</td>\n",
              "      <td>3.623137</td>\n",
              "      <td>3.222430</td>\n",
              "      <td>3.568136</td>\n",
              "    </tr>\n",
              "    <tr>\n",
              "      <th>min</th>\n",
              "      <td>18.000000</td>\n",
              "      <td>102.000000</td>\n",
              "      <td>1.000000</td>\n",
              "      <td>1.000000</td>\n",
              "      <td>1.0</td>\n",
              "      <td>1.000000</td>\n",
              "      <td>1.000000</td>\n",
              "      <td>30.000000</td>\n",
              "      <td>1.000000</td>\n",
              "      <td>1.000000</td>\n",
              "      <td>1.000000</td>\n",
              "      <td>1009.000000</td>\n",
              "      <td>2094.000000</td>\n",
              "      <td>0.000000</td>\n",
              "      <td>11.000000</td>\n",
              "      <td>3.000000</td>\n",
              "      <td>1.000000</td>\n",
              "      <td>80.0</td>\n",
              "      <td>0.000000</td>\n",
              "      <td>0.000000</td>\n",
              "      <td>0.000000</td>\n",
              "      <td>1.000000</td>\n",
              "      <td>0.000000</td>\n",
              "      <td>0.000000</td>\n",
              "      <td>0.000000</td>\n",
              "      <td>0.000000</td>\n",
              "    </tr>\n",
              "    <tr>\n",
              "      <th>25%</th>\n",
              "      <td>30.000000</td>\n",
              "      <td>465.000000</td>\n",
              "      <td>2.000000</td>\n",
              "      <td>2.000000</td>\n",
              "      <td>1.0</td>\n",
              "      <td>491.250000</td>\n",
              "      <td>2.000000</td>\n",
              "      <td>48.000000</td>\n",
              "      <td>2.000000</td>\n",
              "      <td>1.000000</td>\n",
              "      <td>2.000000</td>\n",
              "      <td>2911.000000</td>\n",
              "      <td>8047.000000</td>\n",
              "      <td>1.000000</td>\n",
              "      <td>12.000000</td>\n",
              "      <td>3.000000</td>\n",
              "      <td>2.000000</td>\n",
              "      <td>80.0</td>\n",
              "      <td>0.000000</td>\n",
              "      <td>6.000000</td>\n",
              "      <td>2.000000</td>\n",
              "      <td>2.000000</td>\n",
              "      <td>3.000000</td>\n",
              "      <td>2.000000</td>\n",
              "      <td>0.000000</td>\n",
              "      <td>2.000000</td>\n",
              "    </tr>\n",
              "    <tr>\n",
              "      <th>50%</th>\n",
              "      <td>36.000000</td>\n",
              "      <td>802.000000</td>\n",
              "      <td>7.000000</td>\n",
              "      <td>3.000000</td>\n",
              "      <td>1.0</td>\n",
              "      <td>1020.500000</td>\n",
              "      <td>3.000000</td>\n",
              "      <td>66.000000</td>\n",
              "      <td>3.000000</td>\n",
              "      <td>2.000000</td>\n",
              "      <td>3.000000</td>\n",
              "      <td>4919.000000</td>\n",
              "      <td>14235.500000</td>\n",
              "      <td>2.000000</td>\n",
              "      <td>14.000000</td>\n",
              "      <td>3.000000</td>\n",
              "      <td>3.000000</td>\n",
              "      <td>80.0</td>\n",
              "      <td>1.000000</td>\n",
              "      <td>10.000000</td>\n",
              "      <td>3.000000</td>\n",
              "      <td>3.000000</td>\n",
              "      <td>5.000000</td>\n",
              "      <td>3.000000</td>\n",
              "      <td>1.000000</td>\n",
              "      <td>3.000000</td>\n",
              "    </tr>\n",
              "    <tr>\n",
              "      <th>75%</th>\n",
              "      <td>43.000000</td>\n",
              "      <td>1157.000000</td>\n",
              "      <td>14.000000</td>\n",
              "      <td>4.000000</td>\n",
              "      <td>1.0</td>\n",
              "      <td>1555.750000</td>\n",
              "      <td>4.000000</td>\n",
              "      <td>83.750000</td>\n",
              "      <td>3.000000</td>\n",
              "      <td>3.000000</td>\n",
              "      <td>4.000000</td>\n",
              "      <td>8379.000000</td>\n",
              "      <td>20461.500000</td>\n",
              "      <td>4.000000</td>\n",
              "      <td>18.000000</td>\n",
              "      <td>3.000000</td>\n",
              "      <td>4.000000</td>\n",
              "      <td>80.0</td>\n",
              "      <td>1.000000</td>\n",
              "      <td>15.000000</td>\n",
              "      <td>3.000000</td>\n",
              "      <td>3.000000</td>\n",
              "      <td>9.000000</td>\n",
              "      <td>7.000000</td>\n",
              "      <td>3.000000</td>\n",
              "      <td>7.000000</td>\n",
              "    </tr>\n",
              "    <tr>\n",
              "      <th>max</th>\n",
              "      <td>60.000000</td>\n",
              "      <td>1499.000000</td>\n",
              "      <td>29.000000</td>\n",
              "      <td>5.000000</td>\n",
              "      <td>1.0</td>\n",
              "      <td>2068.000000</td>\n",
              "      <td>4.000000</td>\n",
              "      <td>100.000000</td>\n",
              "      <td>4.000000</td>\n",
              "      <td>5.000000</td>\n",
              "      <td>4.000000</td>\n",
              "      <td>19999.000000</td>\n",
              "      <td>26999.000000</td>\n",
              "      <td>9.000000</td>\n",
              "      <td>25.000000</td>\n",
              "      <td>4.000000</td>\n",
              "      <td>4.000000</td>\n",
              "      <td>80.0</td>\n",
              "      <td>3.000000</td>\n",
              "      <td>40.000000</td>\n",
              "      <td>6.000000</td>\n",
              "      <td>4.000000</td>\n",
              "      <td>40.000000</td>\n",
              "      <td>18.000000</td>\n",
              "      <td>15.000000</td>\n",
              "      <td>17.000000</td>\n",
              "    </tr>\n",
              "  </tbody>\n",
              "</table>\n",
              "</div>"
            ],
            "text/plain": [
              "               Age    DailyRate  ...  YearsSinceLastPromotion  YearsWithCurrManager\n",
              "count  1470.000000  1470.000000  ...              1470.000000           1470.000000\n",
              "mean     36.923810   802.485714  ...                 2.187755              4.123129\n",
              "std       9.135373   403.509100  ...                 3.222430              3.568136\n",
              "min      18.000000   102.000000  ...                 0.000000              0.000000\n",
              "25%      30.000000   465.000000  ...                 0.000000              2.000000\n",
              "50%      36.000000   802.000000  ...                 1.000000              3.000000\n",
              "75%      43.000000  1157.000000  ...                 3.000000              7.000000\n",
              "max      60.000000  1499.000000  ...                15.000000             17.000000\n",
              "\n",
              "[8 rows x 26 columns]"
            ]
          },
          "metadata": {
            "tags": []
          },
          "execution_count": 197
        }
      ]
    },
    {
      "cell_type": "markdown",
      "metadata": {
        "id": "nhfKXNxlSabC"
      },
      "source": [
        "#### 1.3.2 Find missing data"
      ]
    },
    {
      "cell_type": "code",
      "metadata": {
        "id": "c93k7ipkSexq",
        "colab": {
          "base_uri": "https://localhost:8080/"
        },
        "outputId": "07c05d8a-92c4-4469-c88f-60e87b59b8c1"
      },
      "source": [
        "dataset.info()"
      ],
      "execution_count": 164,
      "outputs": [
        {
          "output_type": "stream",
          "text": [
            "<class 'pandas.core.frame.DataFrame'>\n",
            "RangeIndex: 1470 entries, 0 to 1469\n",
            "Data columns (total 35 columns):\n",
            " #   Column                    Non-Null Count  Dtype \n",
            "---  ------                    --------------  ----- \n",
            " 0   Age                       1470 non-null   int64 \n",
            " 1   BusinessTravel            1470 non-null   object\n",
            " 2   DailyRate                 1470 non-null   int64 \n",
            " 3   Department                1470 non-null   object\n",
            " 4   DistanceFromHome          1470 non-null   int64 \n",
            " 5   Education                 1470 non-null   int64 \n",
            " 6   EducationField            1470 non-null   object\n",
            " 7   EmployeeCount             1470 non-null   int64 \n",
            " 8   EmployeeNumber            1470 non-null   int64 \n",
            " 9   EnvironmentSatisfaction   1470 non-null   int64 \n",
            " 10  Gender                    1470 non-null   object\n",
            " 11  HourlyRate                1470 non-null   int64 \n",
            " 12  JobInvolvement            1470 non-null   int64 \n",
            " 13  JobLevel                  1470 non-null   int64 \n",
            " 14  JobRole                   1470 non-null   object\n",
            " 15  JobSatisfaction           1470 non-null   int64 \n",
            " 16  MaritalStatus             1470 non-null   object\n",
            " 17  MonthlyIncome             1470 non-null   int64 \n",
            " 18  MonthlyRate               1470 non-null   int64 \n",
            " 19  NumCompaniesWorked        1470 non-null   int64 \n",
            " 20  Over18                    1470 non-null   object\n",
            " 21  OverTime                  1470 non-null   object\n",
            " 22  PercentSalaryHike         1470 non-null   int64 \n",
            " 23  PerformanceRating         1470 non-null   int64 \n",
            " 24  RelationshipSatisfaction  1470 non-null   int64 \n",
            " 25  StandardHours             1470 non-null   int64 \n",
            " 26  StockOptionLevel          1470 non-null   int64 \n",
            " 27  TotalWorkingYears         1470 non-null   int64 \n",
            " 28  TrainingTimesLastYear     1470 non-null   int64 \n",
            " 29  WorkLifeBalance           1470 non-null   int64 \n",
            " 30  YearsAtCompany            1470 non-null   int64 \n",
            " 31  YearsInCurrentRole        1470 non-null   int64 \n",
            " 32  YearsSinceLastPromotion   1470 non-null   int64 \n",
            " 33  YearsWithCurrManager      1470 non-null   int64 \n",
            " 34  Attrition                 1470 non-null   object\n",
            "dtypes: int64(26), object(9)\n",
            "memory usage: 402.1+ KB\n"
          ],
          "name": "stdout"
        }
      ]
    },
    {
      "cell_type": "markdown",
      "metadata": {
        "id": "c-l44I0yFNsx"
      },
      "source": [
        "There is no missing value in any columns and 26 numeric / 9 catagories"
      ]
    },
    {
      "cell_type": "code",
      "metadata": {
        "id": "iq8lBSGYdsaD",
        "colab": {
          "base_uri": "https://localhost:8080/",
          "height": 129
        },
        "outputId": "da83bf12-d67a-4458-df15-83d0589d7d80"
      },
      "source": [
        "# Define fucntion for object graph\n",
        "def bar_grpah(variable,)"
      ],
      "execution_count": 165,
      "outputs": [
        {
          "output_type": "error",
          "ename": "SyntaxError",
          "evalue": "ignored",
          "traceback": [
            "\u001b[0;36m  File \u001b[0;32m\"<ipython-input-165-fcac63667af0>\"\u001b[0;36m, line \u001b[0;32m2\u001b[0m\n\u001b[0;31m    def bar_grpah(variable,)\u001b[0m\n\u001b[0m                            ^\u001b[0m\n\u001b[0;31mSyntaxError\u001b[0m\u001b[0;31m:\u001b[0m invalid syntax\n"
          ]
        }
      ]
    },
    {
      "cell_type": "markdown",
      "metadata": {
        "id": "7QVlha7VYX3q"
      },
      "source": [
        "#### 1.3.3 Filter out indenpendent features by visualization several graphs\n",
        "\n",
        "notethat : I' ll reduce the independent variables by selecting the important varaibles easiest way. However, we could apply Recursive Feature Elimination , or even Tree-based feature selection futhur for very complex features selection but for reducing complexity. Therefore, I am going to reduce independent variable. The better selection of feature, the better model of machine learning "
      ]
    },
    {
      "cell_type": "markdown",
      "metadata": {
        "id": "4DTPUAapY2Yr"
      },
      "source": [
        "##### 1.3.3.1 Heatmap"
      ]
    },
    {
      "cell_type": "code",
      "metadata": {
        "colab": {
          "base_uri": "https://localhost:8080/",
          "height": 683
        },
        "id": "sFOfx9GJYJsw",
        "outputId": "2e2113d5-347c-400a-807f-41d166850e20"
      },
      "source": [
        "plt.figure(figsize=(20,15))\n",
        "sns.heatmap(dataset.corr(),annot=True,linewidth=0.5,cmap='coolwarm')"
      ],
      "execution_count": null,
      "outputs": [
        {
          "output_type": "execute_result",
          "data": {
            "text/plain": [
              "<matplotlib.axes._subplots.AxesSubplot at 0x7f7c3dee1da0>"
            ]
          },
          "metadata": {
            "tags": []
          },
          "execution_count": 56
        },
        {
          "output_type": "display_data",
          "data": {
            "image/png": "[encoded data removed]",
            "text/plain": [
              "<Figure size 1440x1080 with 2 Axes>"
            ]
          },
          "metadata": {
            "tags": [],
            "needs_background": "light"
          }
        }
      ]
    },
    {
      "cell_type": "markdown",
      "metadata": {
        "id": "-BBFOJ4vYzUw"
      },
      "source": [
        "##### 1.3.3.2 Age vs Attrition\n",
        "\n",
        "We shall see people tend to leave organisation within lower age than higher age which make sense compared to other organisations."
      ]
    },
    {
      "cell_type": "code",
      "metadata": {
        "colab": {
          "base_uri": "https://localhost:8080/",
          "height": 487
        },
        "id": "C6VTmtwFWhdS",
        "outputId": "fada8244-6f48-4eb4-cb52-108cc1b9c3e4"
      },
      "source": [
        "sns.factorplot(data=dataset,y='Age',x='Attrition',size=5,aspect=1,kind='box')\n",
        "plt.title(\"Age Vs Attrition\")\n",
        "plt.show()"
      ],
      "execution_count": 33,
      "outputs": [
        {
          "output_type": "stream",
          "text": [
            "/usr/local/lib/python3.6/dist-packages/seaborn/categorical.py:3704: UserWarning: The `factorplot` function has been renamed to `catplot`. The original name will be removed in a future release. Please update your code. Note that the default `kind` in `factorplot` (`'point'`) has changed `'strip'` in `catplot`.\n",
            "  warnings.warn(msg)\n",
            "/usr/local/lib/python3.6/dist-packages/seaborn/categorical.py:3710: UserWarning: The `size` parameter has been renamed to `height`; please update your code.\n",
            "  warnings.warn(msg, UserWarning)\n"
          ],
          "name": "stderr"
        },
        {
          "output_type": "display_data",
          "data": {
            "image/png": "[encoded data removed]",
            "text/plain": [
              "<Figure size 360x360 with 1 Axes>"
            ]
          },
          "metadata": {
            "tags": [],
            "needs_background": "light"
          }
        }
      ]
    },
    {
      "cell_type": "markdown",
      "metadata": {
        "id": "QnPBX1ykZNaJ"
      },
      "source": [
        "##### 1.3.3.3 Department VS Attrition\n",
        "\n",
        "This is imbalancing dataset which you can see on grpah the attrition on HR department is quite lower than others and we shall scaling this variable in the futhur step. Moreover, the trend shows that sales department have highest resign ratio around 1/3 times (Maths : Yes value / No value)"
      ]
    },
    {
      "cell_type": "code",
      "metadata": {
        "colab": {
          "base_uri": "https://localhost:8080/",
          "height": 422
        },
        "id": "c8KRbWecbSpy",
        "outputId": "625443f5-b113-41f3-89ba-18ee05c52edb"
      },
      "source": [
        "sns.factorplot(data=dataset,kind='count',x='Attrition',col='Department')"
      ],
      "execution_count": 37,
      "outputs": [
        {
          "output_type": "stream",
          "text": [
            "/usr/local/lib/python3.6/dist-packages/seaborn/categorical.py:3704: UserWarning: The `factorplot` function has been renamed to `catplot`. The original name will be removed in a future release. Please update your code. Note that the default `kind` in `factorplot` (`'point'`) has changed `'strip'` in `catplot`.\n",
            "  warnings.warn(msg)\n"
          ],
          "name": "stderr"
        },
        {
          "output_type": "execute_result",
          "data": {
            "text/plain": [
              "<seaborn.axisgrid.FacetGrid at 0x7f4264f5f320>"
            ]
          },
          "metadata": {
            "tags": []
          },
          "execution_count": 37
        },
        {
          "output_type": "display_data",
          "data": {
            "image/png": "[encoded data removed]",
            "text/plain": [
              "<Figure size 1080x360 with 3 Axes>"
            ]
          },
          "metadata": {
            "tags": [],
            "needs_background": "light"
          }
        }
      ]
    },
    {
      "cell_type": "markdown",
      "metadata": {
        "id": "H3V-zC4ZchOw"
      },
      "source": [
        "##### 1.3.3.4 Gender VS Attrition\n",
        "\n",
        "The population of organisation between male and female is quite the same. However, ratio of resign is similar to each other."
      ]
    },
    {
      "cell_type": "code",
      "metadata": {
        "colab": {
          "base_uri": "https://localhost:8080/",
          "height": 454
        },
        "id": "0e4nnkmOcsFw",
        "outputId": "8b4c98fd-cec7-47c5-9f26-6620d52f36a2"
      },
      "source": [
        "sns.factorplot(data=dataset,kind='count',x='Attrition',col='Gender')"
      ],
      "execution_count": 36,
      "outputs": [
        {
          "output_type": "stream",
          "text": [
            "/usr/local/lib/python3.6/dist-packages/seaborn/categorical.py:3704: UserWarning: The `factorplot` function has been renamed to `catplot`. The original name will be removed in a future release. Please update your code. Note that the default `kind` in `factorplot` (`'point'`) has changed `'strip'` in `catplot`.\n",
            "  warnings.warn(msg)\n"
          ],
          "name": "stderr"
        },
        {
          "output_type": "execute_result",
          "data": {
            "text/plain": [
              "<seaborn.axisgrid.FacetGrid at 0x7f42650f2208>"
            ]
          },
          "metadata": {
            "tags": []
          },
          "execution_count": 36
        },
        {
          "output_type": "display_data",
          "data": {
            "image/png": "[encoded data removed]",
            "text/plain": [
              "<Figure size 720x360 with 2 Axes>"
            ]
          },
          "metadata": {
            "tags": [],
            "needs_background": "light"
          }
        }
      ]
    },
    {
      "cell_type": "markdown",
      "metadata": {
        "id": "D1rJ8Q0jzF0o"
      },
      "source": [
        "##### 1.3.3.5 Salary VS Attrition\n",
        "\n",
        "This is only the average of the monthlyincome which we shall see that people who resign tend to have lower salary than people who stay at organisation"
      ]
    },
    {
      "cell_type": "code",
      "metadata": {
        "colab": {
          "base_uri": "https://localhost:8080/",
          "height": 453
        },
        "id": "eCVbxZ6L4Sod",
        "outputId": "6f8a647f-0fa4-47eb-9153-df8e5bc22c1d"
      },
      "source": [
        "sns.factorplot(data=dataset,kind='bar',x='Attrition',y='MonthlyIncome')\n",
        "plt.title(\"Salary Vs Attrition\")\n",
        "plt.show()"
      ],
      "execution_count": 38,
      "outputs": [
        {
          "output_type": "stream",
          "text": [
            "/usr/local/lib/python3.6/dist-packages/seaborn/categorical.py:3704: UserWarning: The `factorplot` function has been renamed to `catplot`. The original name will be removed in a future release. Please update your code. Note that the default `kind` in `factorplot` (`'point'`) has changed `'strip'` in `catplot`.\n",
            "  warnings.warn(msg)\n"
          ],
          "name": "stderr"
        },
        {
          "output_type": "display_data",
          "data": {
            "image/png": "[encoded data removed]",
            "text/plain": [
              "<Figure size 360x360 with 1 Axes>"
            ]
          },
          "metadata": {
            "tags": [],
            "needs_background": "light"
          }
        }
      ]
    },
    {
      "cell_type": "markdown",
      "metadata": {
        "id": "O4gnC_Sl7ef5"
      },
      "source": [
        "##### 1.3.3.6 Performance VS attrition\n",
        "\n",
        "We can see that the ratio between Yes and No of the grpah is the same. Therefore, we can't actually find any relation of those two. Thus, we are going to drop performancerating."
      ]
    },
    {
      "cell_type": "code",
      "metadata": {
        "colab": {
          "base_uri": "https://localhost:8080/",
          "height": 453
        },
        "id": "dEKAwbL57qQK",
        "outputId": "005111a2-e18f-46e6-f20a-2fe9a274b20a"
      },
      "source": [
        "sns.factorplot(data=dataset,y='PerformanceRating',x='Attrition',kind='bar')\n",
        "plt.title(\"PerformanceRating Vs Attrition\")\n",
        "plt.show()"
      ],
      "execution_count": 41,
      "outputs": [
        {
          "output_type": "stream",
          "text": [
            "/usr/local/lib/python3.6/dist-packages/seaborn/categorical.py:3704: UserWarning: The `factorplot` function has been renamed to `catplot`. The original name will be removed in a future release. Please update your code. Note that the default `kind` in `factorplot` (`'point'`) has changed `'strip'` in `catplot`.\n",
            "  warnings.warn(msg)\n"
          ],
          "name": "stderr"
        },
        {
          "output_type": "display_data",
          "data": {
            "image/png": "[encoded data removed]",
            "text/plain": [
              "<Figure size 360x360 with 1 Axes>"
            ]
          },
          "metadata": {
            "tags": [],
            "needs_background": "light"
          }
        }
      ]
    },
    {
      "cell_type": "markdown",
      "metadata": {
        "id": "Xd7DFn5B_vO-"
      },
      "source": [
        "##### 1.3.3.7 Yearatcompany VS attrition\n",
        "\n",
        "We can see that the average year which employee resigned around 5 year."
      ]
    },
    {
      "cell_type": "code",
      "metadata": {
        "colab": {
          "base_uri": "https://localhost:8080/",
          "height": 453
        },
        "id": "61H6-eIZAcpr",
        "outputId": "027b1109-25bd-4d7c-bd63-97b4a7f35dea"
      },
      "source": [
        "sns.factorplot(data=dataset,y='YearsAtCompany',x='Attrition',kind='bar')\n",
        "plt.title(\"YearsAtCompany Vs Attrition\")\n",
        "plt.show()"
      ],
      "execution_count": 45,
      "outputs": [
        {
          "output_type": "stream",
          "text": [
            "/usr/local/lib/python3.6/dist-packages/seaborn/categorical.py:3704: UserWarning: The `factorplot` function has been renamed to `catplot`. The original name will be removed in a future release. Please update your code. Note that the default `kind` in `factorplot` (`'point'`) has changed `'strip'` in `catplot`.\n",
            "  warnings.warn(msg)\n"
          ],
          "name": "stderr"
        },
        {
          "output_type": "display_data",
          "data": {
            "image/png": "[encoded data removed]",
            "text/plain": [
              "<Figure size 360x360 with 1 Axes>"
            ]
          },
          "metadata": {
            "tags": [],
            "needs_background": "light"
          }
        }
      ]
    },
    {
      "cell_type": "markdown",
      "metadata": {
        "id": "f-pYjChA_2Vm"
      },
      "source": [
        "##### 1.3.3.8 Education VS attrition\n",
        "\n",
        "We can see that the relationship between education level and attrition is quite low even it is the average value."
      ]
    },
    {
      "cell_type": "code",
      "metadata": {
        "colab": {
          "base_uri": "https://localhost:8080/",
          "height": 453
        },
        "id": "IoIOypFXAbly",
        "outputId": "8b59d2c1-5d55-4723-c3d4-8a5fd9505bc8"
      },
      "source": [
        "sns.factorplot(data=dataset,y='Education',x='Attrition',kind='bar')\n",
        "plt.title(\"Education Vs Attrition\")\n",
        "plt.show()"
      ],
      "execution_count": 46,
      "outputs": [
        {
          "output_type": "stream",
          "text": [
            "/usr/local/lib/python3.6/dist-packages/seaborn/categorical.py:3704: UserWarning: The `factorplot` function has been renamed to `catplot`. The original name will be removed in a future release. Please update your code. Note that the default `kind` in `factorplot` (`'point'`) has changed `'strip'` in `catplot`.\n",
            "  warnings.warn(msg)\n"
          ],
          "name": "stderr"
        },
        {
          "output_type": "display_data",
          "data": {
            "image/png": "[encoded data removed]",
            "text/plain": [
              "<Figure size 360x360 with 1 Axes>"
            ]
          },
          "metadata": {
            "tags": [],
            "needs_background": "light"
          }
        }
      ]
    },
    {
      "cell_type": "markdown",
      "metadata": {
        "id": "c2Hq8VL5AdGi"
      },
      "source": [
        "##### 1.3.3.9 Worklifebalance VS attrition\n",
        "\n",
        "We can see the average of worklifebalcne score is equal to attrition average score result in non-relationship"
      ]
    },
    {
      "cell_type": "code",
      "metadata": {
        "colab": {
          "base_uri": "https://localhost:8080/",
          "height": 453
        },
        "id": "mYUPwPRrAf4o",
        "outputId": "46b9bd8b-a2fb-44d2-8f6d-c08043a6458e"
      },
      "source": [
        "sns.factorplot(data=dataset,y='WorkLifeBalance',x='Attrition',kind='bar')\n",
        "plt.title(\"WorkLifeBalanceVs Attrition\")\n",
        "plt.show()"
      ],
      "execution_count": 48,
      "outputs": [
        {
          "output_type": "stream",
          "text": [
            "/usr/local/lib/python3.6/dist-packages/seaborn/categorical.py:3704: UserWarning: The `factorplot` function has been renamed to `catplot`. The original name will be removed in a future release. Please update your code. Note that the default `kind` in `factorplot` (`'point'`) has changed `'strip'` in `catplot`.\n",
            "  warnings.warn(msg)\n"
          ],
          "name": "stderr"
        },
        {
          "output_type": "display_data",
          "data": {
            "image/png": "[encoded data removed]",
            "text/plain": [
              "<Figure size 360x360 with 1 Axes>"
            ]
          },
          "metadata": {
            "tags": [],
            "needs_background": "light"
          }
        }
      ]
    },
    {
      "cell_type": "markdown",
      "metadata": {
        "id": "NGJH7OtlAggA"
      },
      "source": [
        "##### 1.3.3.10 Education level VS attrition\n",
        "\n",
        "1 = Below college\n",
        "2 = College\n",
        "3 = Bacherlor\n",
        "4 = Master\n",
        "5 = Doctor\n",
        "\n",
        "It shows that bachelor degree has highest leakage of employee whereas the dataset is still imbalance"
      ]
    },
    {
      "cell_type": "code",
      "metadata": {
        "colab": {
          "base_uri": "https://localhost:8080/",
          "height": 295
        },
        "id": "om5ZYRhFAmvb",
        "outputId": "4ad68309-8ece-46a3-9e70-b63f6709a232"
      },
      "source": [
        "sns.countplot(x='Education',hue='Attrition',data=dataset)\n",
        "plt.title(\"EducationVs Attrition\")\n",
        "plt.show()"
      ],
      "execution_count": 55,
      "outputs": [
        {
          "output_type": "display_data",
          "data": {
            "image/png": "[encoded data removed]",
            "text/plain": [
              "<Figure size 432x288 with 1 Axes>"
            ]
          },
          "metadata": {
            "tags": [],
            "needs_background": "light"
          }
        }
      ]
    },
    {
      "cell_type": "markdown",
      "metadata": {
        "id": "bQ2soGJvAnQn"
      },
      "source": [
        "##### 1.3.3.11 Distancefromhome VS attrition\n",
        "\n",
        "We can definitely see that distance from home is quite related to resign of employee. As you see in the graph, the lower distance, the higher no attrition value."
      ]
    },
    {
      "cell_type": "code",
      "metadata": {
        "colab": {
          "base_uri": "https://localhost:8080/",
          "height": 295
        },
        "id": "ensLpnv3ArcN",
        "outputId": "91173c07-bfc4-49cf-dd97-7258d0713d01"
      },
      "source": [
        "sns.countplot(x='DistanceFromHome',hue='Attrition',data=dataset)\n",
        "plt.title(\"DistanceFromHome Vs Attrition\")\n",
        "plt.show()"
      ],
      "execution_count": 166,
      "outputs": [
        {
          "output_type": "display_data",
          "data": {
            "image/png": "[encoded data removed]",
            "text/plain": [
              "<Figure size 432x288 with 1 Axes>"
            ]
          },
          "metadata": {
            "tags": [],
            "needs_background": "light"
          }
        }
      ]
    },
    {
      "cell_type": "markdown",
      "metadata": {
        "id": "hoxYuAoEAqtp"
      },
      "source": [
        "##### 1.3.3.12 JobSatisfaction VS attrition"
      ]
    },
    {
      "cell_type": "code",
      "metadata": {
        "colab": {
          "base_uri": "https://localhost:8080/",
          "height": 295
        },
        "id": "Rv79E-S6AxF5",
        "outputId": "cfa5b715-b0f8-4fe2-a967-28273f73f48e"
      },
      "source": [
        "sns.countplot(x='JobSatisfaction',hue='Attrition',data=dataset)\n",
        "plt.title(\"Jobsatisfaction Vs Attrition\")\n",
        "plt.show()"
      ],
      "execution_count": 59,
      "outputs": [
        {
          "output_type": "display_data",
          "data": {
            "image/png": "[encoded data removed]",
            "text/plain": [
              "<Figure size 432x288 with 1 Axes>"
            ]
          },
          "metadata": {
            "tags": [],
            "needs_background": "light"
          }
        }
      ]
    },
    {
      "cell_type": "markdown",
      "metadata": {
        "id": "RajQGxPGAxd1"
      },
      "source": [
        "##### 1.3.3.13 Yearsincelastpromote VS attrition\n",
        "\n",
        "We can see that people who just promoted around 0-2 years tend to stay at organisation compared to people who don't promote for long time. However, interesting point is the highest value of resgin is 0 year and it is literally mean that those people don't jave a chance to promote or people who just come in the organisation.\n",
        "\n"
      ]
    },
    {
      "cell_type": "code",
      "metadata": {
        "colab": {
          "base_uri": "https://localhost:8080/",
          "height": 295
        },
        "id": "ttq258_FBMQE",
        "outputId": "87d3dc3d-1cec-463b-85f8-952304fb76f2"
      },
      "source": [
        "sns.countplot(y='YearsSinceLastPromotion',hue='Attrition',data=dataset)\n",
        "plt.title(\"YearsSinceLastPromotion Vs Attrition\")\n",
        "plt.show()"
      ],
      "execution_count": 75,
      "outputs": [
        {
          "output_type": "display_data",
          "data": {
            "image/png": "[encoded data removed]",
            "text/plain": [
              "<Figure size 432x288 with 1 Axes>"
            ]
          },
          "metadata": {
            "tags": [],
            "needs_background": "light"
          }
        }
      ]
    },
    {
      "cell_type": "markdown",
      "metadata": {
        "id": "d8XnpJakLJt6"
      },
      "source": [
        "#### 1.3.4 Feature Selection\n",
        "\n",
        "Reduce the independent varaible column to 18 columns and target variable 1 column"
      ]
    },
    {
      "cell_type": "code",
      "metadata": {
        "id": "BqXCnrRBeBXI"
      },
      "source": [
        "dataset.drop(['BusinessTravel','DailyRate','Education','EmployeeCount', 'EmployeeNumber', 'HourlyRate','JobLevel','MaritalStatus','MonthlyRate','NumCompaniesWorked','Over18', 'StandardHours','StockOptionLevel','WorkLifeBalance'], axis=1, inplace=True)"
      ],
      "execution_count": 216,
      "outputs": []
    },
    {
      "cell_type": "code",
      "metadata": {
        "colab": {
          "base_uri": "https://localhost:8080/"
        },
        "id": "y8NFjpl7fZp6",
        "outputId": "ef834b27-bef8-4770-edc7-15f4a7b66ed8"
      },
      "source": [
        "dataset.info()"
      ],
      "execution_count": 217,
      "outputs": [
        {
          "output_type": "stream",
          "text": [
            "<class 'pandas.core.frame.DataFrame'>\n",
            "RangeIndex: 1470 entries, 0 to 1469\n",
            "Data columns (total 21 columns):\n",
            " #   Column                    Non-Null Count  Dtype \n",
            "---  ------                    --------------  ----- \n",
            " 0   Age                       1470 non-null   int64 \n",
            " 1   Department                1470 non-null   object\n",
            " 2   DistanceFromHome          1470 non-null   int64 \n",
            " 3   EducationField            1470 non-null   object\n",
            " 4   EnvironmentSatisfaction   1470 non-null   int64 \n",
            " 5   Gender                    1470 non-null   object\n",
            " 6   JobInvolvement            1470 non-null   int64 \n",
            " 7   JobRole                   1470 non-null   object\n",
            " 8   JobSatisfaction           1470 non-null   int64 \n",
            " 9   MonthlyIncome             1470 non-null   int64 \n",
            " 10  OverTime                  1470 non-null   object\n",
            " 11  PercentSalaryHike         1470 non-null   int64 \n",
            " 12  PerformanceRating         1470 non-null   int64 \n",
            " 13  RelationshipSatisfaction  1470 non-null   int64 \n",
            " 14  TotalWorkingYears         1470 non-null   int64 \n",
            " 15  TrainingTimesLastYear     1470 non-null   int64 \n",
            " 16  YearsAtCompany            1470 non-null   int64 \n",
            " 17  YearsInCurrentRole        1470 non-null   int64 \n",
            " 18  YearsSinceLastPromotion   1470 non-null   int64 \n",
            " 19  YearsWithCurrManager      1470 non-null   int64 \n",
            " 20  Attrition                 1470 non-null   object\n",
            "dtypes: int64(15), object(6)\n",
            "memory usage: 241.3+ KB\n"
          ],
          "name": "stdout"
        }
      ]
    },
    {
      "cell_type": "markdown",
      "metadata": {
        "id": "CriG6VzVSjcK"
      },
      "source": [
        "## 1.4Encoding categorical data"
      ]
    },
    {
      "cell_type": "markdown",
      "metadata": {
        "id": "xDZYoirIgmh3"
      },
      "source": [
        "### 1.4.1Encoding dependent Variables"
      ]
    },
    {
      "cell_type": "code",
      "metadata": {
        "id": "7rrUctu-feVM"
      },
      "source": [
        "from sklearn.preprocessing import LabelEncoder\n",
        "label = LabelEncoder()\n",
        "dataset[\"Attrition\"] = label.fit_transform(dataset.Attrition)"
      ],
      "execution_count": 218,
      "outputs": []
    },
    {
      "cell_type": "code",
      "metadata": {
        "colab": {
          "base_uri": "https://localhost:8080/",
          "height": 785
        },
        "id": "B1Pb4Jdhfr-c",
        "outputId": "f76c3432-2ff2-45a3-f328-447e20c027df"
      },
      "source": [
        "dataset.info()\n",
        "dataset.head()"
      ],
      "execution_count": 219,
      "outputs": [
        {
          "output_type": "stream",
          "text": [
            "<class 'pandas.core.frame.DataFrame'>\n",
            "RangeIndex: 1470 entries, 0 to 1469\n",
            "Data columns (total 21 columns):\n",
            " #   Column                    Non-Null Count  Dtype \n",
            "---  ------                    --------------  ----- \n",
            " 0   Age                       1470 non-null   int64 \n",
            " 1   Department                1470 non-null   object\n",
            " 2   DistanceFromHome          1470 non-null   int64 \n",
            " 3   EducationField            1470 non-null   object\n",
            " 4   EnvironmentSatisfaction   1470 non-null   int64 \n",
            " 5   Gender                    1470 non-null   object\n",
            " 6   JobInvolvement            1470 non-null   int64 \n",
            " 7   JobRole                   1470 non-null   object\n",
            " 8   JobSatisfaction           1470 non-null   int64 \n",
            " 9   MonthlyIncome             1470 non-null   int64 \n",
            " 10  OverTime                  1470 non-null   object\n",
            " 11  PercentSalaryHike         1470 non-null   int64 \n",
            " 12  PerformanceRating         1470 non-null   int64 \n",
            " 13  RelationshipSatisfaction  1470 non-null   int64 \n",
            " 14  TotalWorkingYears         1470 non-null   int64 \n",
            " 15  TrainingTimesLastYear     1470 non-null   int64 \n",
            " 16  YearsAtCompany            1470 non-null   int64 \n",
            " 17  YearsInCurrentRole        1470 non-null   int64 \n",
            " 18  YearsSinceLastPromotion   1470 non-null   int64 \n",
            " 19  YearsWithCurrManager      1470 non-null   int64 \n",
            " 20  Attrition                 1470 non-null   int64 \n",
            "dtypes: int64(16), object(5)\n",
            "memory usage: 241.3+ KB\n"
          ],
          "name": "stdout"
        },
        {
          "output_type": "execute_result",
          "data": {
            "text/html": [
              "<div>\n",
              "<style scoped>\n",
              "    .dataframe tbody tr th:only-of-type {\n",
              "        vertical-align: middle;\n",
              "    }\n",
              "\n",
              "    .dataframe tbody tr th {\n",
              "        vertical-align: top;\n",
              "    }\n",
              "\n",
              "    .dataframe thead th {\n",
              "        text-align: right;\n",
              "    }\n",
              "</style>\n",
              "<table border=\"1\" class=\"dataframe\">\n",
              "  <thead>\n",
              "    <tr style=\"text-align: right;\">\n",
              "      <th></th>\n",
              "      <th>Age</th>\n",
              "      <th>Department</th>\n",
              "      <th>DistanceFromHome</th>\n",
              "      <th>EducationField</th>\n",
              "      <th>EnvironmentSatisfaction</th>\n",
              "      <th>Gender</th>\n",
              "      <th>JobInvolvement</th>\n",
              "      <th>JobRole</th>\n",
              "      <th>JobSatisfaction</th>\n",
              "      <th>MonthlyIncome</th>\n",
              "      <th>OverTime</th>\n",
              "      <th>PercentSalaryHike</th>\n",
              "      <th>PerformanceRating</th>\n",
              "      <th>RelationshipSatisfaction</th>\n",
              "      <th>TotalWorkingYears</th>\n",
              "      <th>TrainingTimesLastYear</th>\n",
              "      <th>YearsAtCompany</th>\n",
              "      <th>YearsInCurrentRole</th>\n",
              "      <th>YearsSinceLastPromotion</th>\n",
              "      <th>YearsWithCurrManager</th>\n",
              "      <th>Attrition</th>\n",
              "    </tr>\n",
              "  </thead>\n",
              "  <tbody>\n",
              "    <tr>\n",
              "      <th>0</th>\n",
              "      <td>41</td>\n",
              "      <td>Sales</td>\n",
              "      <td>1</td>\n",
              "      <td>Life Sciences</td>\n",
              "      <td>2</td>\n",
              "      <td>Female</td>\n",
              "      <td>3</td>\n",
              "      <td>Sales Executive</td>\n",
              "      <td>4</td>\n",
              "      <td>5993</td>\n",
              "      <td>Yes</td>\n",
              "      <td>11</td>\n",
              "      <td>3</td>\n",
              "      <td>1</td>\n",
              "      <td>8</td>\n",
              "      <td>0</td>\n",
              "      <td>6</td>\n",
              "      <td>4</td>\n",
              "      <td>0</td>\n",
              "      <td>5</td>\n",
              "      <td>1</td>\n",
              "    </tr>\n",
              "    <tr>\n",
              "      <th>1</th>\n",
              "      <td>49</td>\n",
              "      <td>Research &amp; Development</td>\n",
              "      <td>8</td>\n",
              "      <td>Life Sciences</td>\n",
              "      <td>3</td>\n",
              "      <td>Male</td>\n",
              "      <td>2</td>\n",
              "      <td>Research Scientist</td>\n",
              "      <td>2</td>\n",
              "      <td>5130</td>\n",
              "      <td>No</td>\n",
              "      <td>23</td>\n",
              "      <td>4</td>\n",
              "      <td>4</td>\n",
              "      <td>10</td>\n",
              "      <td>3</td>\n",
              "      <td>10</td>\n",
              "      <td>7</td>\n",
              "      <td>1</td>\n",
              "      <td>7</td>\n",
              "      <td>0</td>\n",
              "    </tr>\n",
              "    <tr>\n",
              "      <th>2</th>\n",
              "      <td>37</td>\n",
              "      <td>Research &amp; Development</td>\n",
              "      <td>2</td>\n",
              "      <td>Other</td>\n",
              "      <td>4</td>\n",
              "      <td>Male</td>\n",
              "      <td>2</td>\n",
              "      <td>Laboratory Technician</td>\n",
              "      <td>3</td>\n",
              "      <td>2090</td>\n",
              "      <td>Yes</td>\n",
              "      <td>15</td>\n",
              "      <td>3</td>\n",
              "      <td>2</td>\n",
              "      <td>7</td>\n",
              "      <td>3</td>\n",
              "      <td>0</td>\n",
              "      <td>0</td>\n",
              "      <td>0</td>\n",
              "      <td>0</td>\n",
              "      <td>1</td>\n",
              "    </tr>\n",
              "    <tr>\n",
              "      <th>3</th>\n",
              "      <td>33</td>\n",
              "      <td>Research &amp; Development</td>\n",
              "      <td>3</td>\n",
              "      <td>Life Sciences</td>\n",
              "      <td>4</td>\n",
              "      <td>Female</td>\n",
              "      <td>3</td>\n",
              "      <td>Research Scientist</td>\n",
              "      <td>3</td>\n",
              "      <td>2909</td>\n",
              "      <td>Yes</td>\n",
              "      <td>11</td>\n",
              "      <td>3</td>\n",
              "      <td>3</td>\n",
              "      <td>8</td>\n",
              "      <td>3</td>\n",
              "      <td>8</td>\n",
              "      <td>7</td>\n",
              "      <td>3</td>\n",
              "      <td>0</td>\n",
              "      <td>0</td>\n",
              "    </tr>\n",
              "    <tr>\n",
              "      <th>4</th>\n",
              "      <td>27</td>\n",
              "      <td>Research &amp; Development</td>\n",
              "      <td>2</td>\n",
              "      <td>Medical</td>\n",
              "      <td>1</td>\n",
              "      <td>Male</td>\n",
              "      <td>3</td>\n",
              "      <td>Laboratory Technician</td>\n",
              "      <td>2</td>\n",
              "      <td>3468</td>\n",
              "      <td>No</td>\n",
              "      <td>12</td>\n",
              "      <td>3</td>\n",
              "      <td>4</td>\n",
              "      <td>6</td>\n",
              "      <td>3</td>\n",
              "      <td>2</td>\n",
              "      <td>2</td>\n",
              "      <td>2</td>\n",
              "      <td>2</td>\n",
              "      <td>0</td>\n",
              "    </tr>\n",
              "  </tbody>\n",
              "</table>\n",
              "</div>"
            ],
            "text/plain": [
              "   Age              Department  ...  YearsWithCurrManager Attrition\n",
              "0   41                   Sales  ...                     5         1\n",
              "1   49  Research & Development  ...                     7         0\n",
              "2   37  Research & Development  ...                     0         1\n",
              "3   33  Research & Development  ...                     0         0\n",
              "4   27  Research & Development  ...                     2         0\n",
              "\n",
              "[5 rows x 21 columns]"
            ]
          },
          "metadata": {
            "tags": []
          },
          "execution_count": 219
        }
      ]
    },
    {
      "cell_type": "markdown",
      "metadata": {
        "id": "AhSpdQWeSsFh"
      },
      "source": [
        "### 1.4.2Encoding independent Variables\n",
        "\n",
        "convert the catagorical data to numerical data"
      ]
    },
    {
      "cell_type": "code",
      "metadata": {
        "id": "JZMZ6rAIg7Jr"
      },
      "source": [
        "final_data = pd.get_dummies(dataset)"
      ],
      "execution_count": 220,
      "outputs": []
    },
    {
      "cell_type": "code",
      "metadata": {
        "colab": {
          "base_uri": "https://localhost:8080/",
          "height": 1000
        },
        "id": "di7wtovfk0ek",
        "outputId": "673d0bc8-f98a-4dbe-8ab1-a38f447744e5"
      },
      "source": [
        "final_data.info()\n",
        "final_data.head()"
      ],
      "execution_count": 221,
      "outputs": [
        {
          "output_type": "stream",
          "text": [
            "<class 'pandas.core.frame.DataFrame'>\n",
            "RangeIndex: 1470 entries, 0 to 1469\n",
            "Data columns (total 38 columns):\n",
            " #   Column                             Non-Null Count  Dtype\n",
            "---  ------                             --------------  -----\n",
            " 0   Age                                1470 non-null   int64\n",
            " 1   DistanceFromHome                   1470 non-null   int64\n",
            " 2   EnvironmentSatisfaction            1470 non-null   int64\n",
            " 3   JobInvolvement                     1470 non-null   int64\n",
            " 4   JobSatisfaction                    1470 non-null   int64\n",
            " 5   MonthlyIncome                      1470 non-null   int64\n",
            " 6   PercentSalaryHike                  1470 non-null   int64\n",
            " 7   PerformanceRating                  1470 non-null   int64\n",
            " 8   RelationshipSatisfaction           1470 non-null   int64\n",
            " 9   TotalWorkingYears                  1470 non-null   int64\n",
            " 10  TrainingTimesLastYear              1470 non-null   int64\n",
            " 11  YearsAtCompany                     1470 non-null   int64\n",
            " 12  YearsInCurrentRole                 1470 non-null   int64\n",
            " 13  YearsSinceLastPromotion            1470 non-null   int64\n",
            " 14  YearsWithCurrManager               1470 non-null   int64\n",
            " 15  Attrition                          1470 non-null   int64\n",
            " 16  Department_Human Resources         1470 non-null   uint8\n",
            " 17  Department_Research & Development  1470 non-null   uint8\n",
            " 18  Department_Sales                   1470 non-null   uint8\n",
            " 19  EducationField_Human Resources     1470 non-null   uint8\n",
            " 20  EducationField_Life Sciences       1470 non-null   uint8\n",
            " 21  EducationField_Marketing           1470 non-null   uint8\n",
            " 22  EducationField_Medical             1470 non-null   uint8\n",
            " 23  EducationField_Other               1470 non-null   uint8\n",
            " 24  EducationField_Technical Degree    1470 non-null   uint8\n",
            " 25  Gender_Female                      1470 non-null   uint8\n",
            " 26  Gender_Male                        1470 non-null   uint8\n",
            " 27  JobRole_Healthcare Representative  1470 non-null   uint8\n",
            " 28  JobRole_Human Resources            1470 non-null   uint8\n",
            " 29  JobRole_Laboratory Technician      1470 non-null   uint8\n",
            " 30  JobRole_Manager                    1470 non-null   uint8\n",
            " 31  JobRole_Manufacturing Director     1470 non-null   uint8\n",
            " 32  JobRole_Research Director          1470 non-null   uint8\n",
            " 33  JobRole_Research Scientist         1470 non-null   uint8\n",
            " 34  JobRole_Sales Executive            1470 non-null   uint8\n",
            " 35  JobRole_Sales Representative       1470 non-null   uint8\n",
            " 36  OverTime_No                        1470 non-null   uint8\n",
            " 37  OverTime_Yes                       1470 non-null   uint8\n",
            "dtypes: int64(16), uint8(22)\n",
            "memory usage: 215.5 KB\n"
          ],
          "name": "stdout"
        },
        {
          "output_type": "execute_result",
          "data": {
            "text/html": [
              "<div>\n",
              "<style scoped>\n",
              "    .dataframe tbody tr th:only-of-type {\n",
              "        vertical-align: middle;\n",
              "    }\n",
              "\n",
              "    .dataframe tbody tr th {\n",
              "        vertical-align: top;\n",
              "    }\n",
              "\n",
              "    .dataframe thead th {\n",
              "        text-align: right;\n",
              "    }\n",
              "</style>\n",
              "<table border=\"1\" class=\"dataframe\">\n",
              "  <thead>\n",
              "    <tr style=\"text-align: right;\">\n",
              "      <th></th>\n",
              "      <th>Age</th>\n",
              "      <th>DistanceFromHome</th>\n",
              "      <th>EnvironmentSatisfaction</th>\n",
              "      <th>JobInvolvement</th>\n",
              "      <th>JobSatisfaction</th>\n",
              "      <th>MonthlyIncome</th>\n",
              "      <th>PercentSalaryHike</th>\n",
              "      <th>PerformanceRating</th>\n",
              "      <th>RelationshipSatisfaction</th>\n",
              "      <th>TotalWorkingYears</th>\n",
              "      <th>TrainingTimesLastYear</th>\n",
              "      <th>YearsAtCompany</th>\n",
              "      <th>YearsInCurrentRole</th>\n",
              "      <th>YearsSinceLastPromotion</th>\n",
              "      <th>YearsWithCurrManager</th>\n",
              "      <th>Attrition</th>\n",
              "      <th>Department_Human Resources</th>\n",
              "      <th>Department_Research &amp; Development</th>\n",
              "      <th>Department_Sales</th>\n",
              "      <th>EducationField_Human Resources</th>\n",
              "      <th>EducationField_Life Sciences</th>\n",
              "      <th>EducationField_Marketing</th>\n",
              "      <th>EducationField_Medical</th>\n",
              "      <th>EducationField_Other</th>\n",
              "      <th>EducationField_Technical Degree</th>\n",
              "      <th>Gender_Female</th>\n",
              "      <th>Gender_Male</th>\n",
              "      <th>JobRole_Healthcare Representative</th>\n",
              "      <th>JobRole_Human Resources</th>\n",
              "      <th>JobRole_Laboratory Technician</th>\n",
              "      <th>JobRole_Manager</th>\n",
              "      <th>JobRole_Manufacturing Director</th>\n",
              "      <th>JobRole_Research Director</th>\n",
              "      <th>JobRole_Research Scientist</th>\n",
              "      <th>JobRole_Sales Executive</th>\n",
              "      <th>JobRole_Sales Representative</th>\n",
              "      <th>OverTime_No</th>\n",
              "      <th>OverTime_Yes</th>\n",
              "    </tr>\n",
              "  </thead>\n",
              "  <tbody>\n",
              "    <tr>\n",
              "      <th>0</th>\n",
              "      <td>41</td>\n",
              "      <td>1</td>\n",
              "      <td>2</td>\n",
              "      <td>3</td>\n",
              "      <td>4</td>\n",
              "      <td>5993</td>\n",
              "      <td>11</td>\n",
              "      <td>3</td>\n",
              "      <td>1</td>\n",
              "      <td>8</td>\n",
              "      <td>0</td>\n",
              "      <td>6</td>\n",
              "      <td>4</td>\n",
              "      <td>0</td>\n",
              "      <td>5</td>\n",
              "      <td>1</td>\n",
              "      <td>0</td>\n",
              "      <td>0</td>\n",
              "      <td>1</td>\n",
              "      <td>0</td>\n",
              "      <td>1</td>\n",
              "      <td>0</td>\n",
              "      <td>0</td>\n",
              "      <td>0</td>\n",
              "      <td>0</td>\n",
              "      <td>1</td>\n",
              "      <td>0</td>\n",
              "      <td>0</td>\n",
              "      <td>0</td>\n",
              "      <td>0</td>\n",
              "      <td>0</td>\n",
              "      <td>0</td>\n",
              "      <td>0</td>\n",
              "      <td>0</td>\n",
              "      <td>1</td>\n",
              "      <td>0</td>\n",
              "      <td>0</td>\n",
              "      <td>1</td>\n",
              "    </tr>\n",
              "    <tr>\n",
              "      <th>1</th>\n",
              "      <td>49</td>\n",
              "      <td>8</td>\n",
              "      <td>3</td>\n",
              "      <td>2</td>\n",
              "      <td>2</td>\n",
              "      <td>5130</td>\n",
              "      <td>23</td>\n",
              "      <td>4</td>\n",
              "      <td>4</td>\n",
              "      <td>10</td>\n",
              "      <td>3</td>\n",
              "      <td>10</td>\n",
              "      <td>7</td>\n",
              "      <td>1</td>\n",
              "      <td>7</td>\n",
              "      <td>0</td>\n",
              "      <td>0</td>\n",
              "      <td>1</td>\n",
              "      <td>0</td>\n",
              "      <td>0</td>\n",
              "      <td>1</td>\n",
              "      <td>0</td>\n",
              "      <td>0</td>\n",
              "      <td>0</td>\n",
              "      <td>0</td>\n",
              "      <td>0</td>\n",
              "      <td>1</td>\n",
              "      <td>0</td>\n",
              "      <td>0</td>\n",
              "      <td>0</td>\n",
              "      <td>0</td>\n",
              "      <td>0</td>\n",
              "      <td>0</td>\n",
              "      <td>1</td>\n",
              "      <td>0</td>\n",
              "      <td>0</td>\n",
              "      <td>1</td>\n",
              "      <td>0</td>\n",
              "    </tr>\n",
              "    <tr>\n",
              "      <th>2</th>\n",
              "      <td>37</td>\n",
              "      <td>2</td>\n",
              "      <td>4</td>\n",
              "      <td>2</td>\n",
              "      <td>3</td>\n",
              "      <td>2090</td>\n",
              "      <td>15</td>\n",
              "      <td>3</td>\n",
              "      <td>2</td>\n",
              "      <td>7</td>\n",
              "      <td>3</td>\n",
              "      <td>0</td>\n",
              "      <td>0</td>\n",
              "      <td>0</td>\n",
              "      <td>0</td>\n",
              "      <td>1</td>\n",
              "      <td>0</td>\n",
              "      <td>1</td>\n",
              "      <td>0</td>\n",
              "      <td>0</td>\n",
              "      <td>0</td>\n",
              "      <td>0</td>\n",
              "      <td>0</td>\n",
              "      <td>1</td>\n",
              "      <td>0</td>\n",
              "      <td>0</td>\n",
              "      <td>1</td>\n",
              "      <td>0</td>\n",
              "      <td>0</td>\n",
              "      <td>1</td>\n",
              "      <td>0</td>\n",
              "      <td>0</td>\n",
              "      <td>0</td>\n",
              "      <td>0</td>\n",
              "      <td>0</td>\n",
              "      <td>0</td>\n",
              "      <td>0</td>\n",
              "      <td>1</td>\n",
              "    </tr>\n",
              "    <tr>\n",
              "      <th>3</th>\n",
              "      <td>33</td>\n",
              "      <td>3</td>\n",
              "      <td>4</td>\n",
              "      <td>3</td>\n",
              "      <td>3</td>\n",
              "      <td>2909</td>\n",
              "      <td>11</td>\n",
              "      <td>3</td>\n",
              "      <td>3</td>\n",
              "      <td>8</td>\n",
              "      <td>3</td>\n",
              "      <td>8</td>\n",
              "      <td>7</td>\n",
              "      <td>3</td>\n",
              "      <td>0</td>\n",
              "      <td>0</td>\n",
              "      <td>0</td>\n",
              "      <td>1</td>\n",
              "      <td>0</td>\n",
              "      <td>0</td>\n",
              "      <td>1</td>\n",
              "      <td>0</td>\n",
              "      <td>0</td>\n",
              "      <td>0</td>\n",
              "      <td>0</td>\n",
              "      <td>1</td>\n",
              "      <td>0</td>\n",
              "      <td>0</td>\n",
              "      <td>0</td>\n",
              "      <td>0</td>\n",
              "      <td>0</td>\n",
              "      <td>0</td>\n",
              "      <td>0</td>\n",
              "      <td>1</td>\n",
              "      <td>0</td>\n",
              "      <td>0</td>\n",
              "      <td>0</td>\n",
              "      <td>1</td>\n",
              "    </tr>\n",
              "    <tr>\n",
              "      <th>4</th>\n",
              "      <td>27</td>\n",
              "      <td>2</td>\n",
              "      <td>1</td>\n",
              "      <td>3</td>\n",
              "      <td>2</td>\n",
              "      <td>3468</td>\n",
              "      <td>12</td>\n",
              "      <td>3</td>\n",
              "      <td>4</td>\n",
              "      <td>6</td>\n",
              "      <td>3</td>\n",
              "      <td>2</td>\n",
              "      <td>2</td>\n",
              "      <td>2</td>\n",
              "      <td>2</td>\n",
              "      <td>0</td>\n",
              "      <td>0</td>\n",
              "      <td>1</td>\n",
              "      <td>0</td>\n",
              "      <td>0</td>\n",
              "      <td>0</td>\n",
              "      <td>0</td>\n",
              "      <td>1</td>\n",
              "      <td>0</td>\n",
              "      <td>0</td>\n",
              "      <td>0</td>\n",
              "      <td>1</td>\n",
              "      <td>0</td>\n",
              "      <td>0</td>\n",
              "      <td>1</td>\n",
              "      <td>0</td>\n",
              "      <td>0</td>\n",
              "      <td>0</td>\n",
              "      <td>0</td>\n",
              "      <td>0</td>\n",
              "      <td>0</td>\n",
              "      <td>1</td>\n",
              "      <td>0</td>\n",
              "    </tr>\n",
              "  </tbody>\n",
              "</table>\n",
              "</div>"
            ],
            "text/plain": [
              "   Age  DistanceFromHome  ...  OverTime_No  OverTime_Yes\n",
              "0   41                 1  ...            0             1\n",
              "1   49                 8  ...            1             0\n",
              "2   37                 2  ...            0             1\n",
              "3   33                 3  ...            0             1\n",
              "4   27                 2  ...            1             0\n",
              "\n",
              "[5 rows x 38 columns]"
            ]
          },
          "metadata": {
            "tags": []
          },
          "execution_count": 221
        }
      ]
    },
    {
      "cell_type": "code",
      "metadata": {
        "colab": {
          "base_uri": "https://localhost:8080/"
        },
        "id": "OdRNh4ATl8-t",
        "outputId": "154b85b6-aa9f-44d9-ec6e-e304d3b57faa"
      },
      "source": [
        "final_data.shape"
      ],
      "execution_count": 224,
      "outputs": [
        {
          "output_type": "execute_result",
          "data": {
            "text/plain": [
              "(1470, 38)"
            ]
          },
          "metadata": {
            "tags": []
          },
          "execution_count": 224
        }
      ]
    },
    {
      "cell_type": "markdown",
      "metadata": {
        "id": "qb_vcgm3qZKW"
      },
      "source": [
        "## 1.5Splitting the dataset into the Training set and Test set"
      ]
    },
    {
      "cell_type": "code",
      "metadata": {
        "id": "-0zWsPc2mTkl"
      },
      "source": [
        "X = final_data.drop(['Attrition'], axis = 1) #independent variable\n",
        "y = final_data['Attrition'] #dependent variable"
      ],
      "execution_count": 225,
      "outputs": []
    },
    {
      "cell_type": "code",
      "metadata": {
        "colab": {
          "base_uri": "https://localhost:8080/"
        },
        "id": "QHSru-Dlpo3N",
        "outputId": "32c4ab38-8fde-475f-ac06-d63e01e7ed6c"
      },
      "source": [
        "print(X)"
      ],
      "execution_count": 238,
      "outputs": [
        {
          "output_type": "stream",
          "text": [
            "      Age  DistanceFromHome  ...  OverTime_No  OverTime_Yes\n",
            "0      41                 1  ...            0             1\n",
            "1      49                 8  ...            1             0\n",
            "2      37                 2  ...            0             1\n",
            "3      33                 3  ...            0             1\n",
            "4      27                 2  ...            1             0\n",
            "...   ...               ...  ...          ...           ...\n",
            "1465   36                23  ...            1             0\n",
            "1466   39                 6  ...            1             0\n",
            "1467   27                 4  ...            0             1\n",
            "1468   49                 2  ...            1             0\n",
            "1469   34                 8  ...            1             0\n",
            "\n",
            "[1470 rows x 37 columns]\n"
          ],
          "name": "stdout"
        }
      ]
    },
    {
      "cell_type": "code",
      "metadata": {
        "colab": {
          "base_uri": "https://localhost:8080/"
        },
        "id": "-J3M207Spq0f",
        "outputId": "744188eb-5ad8-4edb-f883-158cb55500ce"
      },
      "source": [
        "print(y)"
      ],
      "execution_count": 233,
      "outputs": [
        {
          "output_type": "stream",
          "text": [
            "0       1\n",
            "1       0\n",
            "2       1\n",
            "3       0\n",
            "4       0\n",
            "       ..\n",
            "1465    0\n",
            "1466    0\n",
            "1467    0\n",
            "1468    0\n",
            "1469    0\n",
            "Name: Attrition, Length: 1470, dtype: int64\n"
          ],
          "name": "stdout"
        }
      ]
    },
    {
      "cell_type": "code",
      "metadata": {
        "id": "pXgA6CzlqbCl"
      },
      "source": [
        "from sklearn.model_selection import train_test_split\n",
        "X_train, X_test, y_train, y_test = train_test_split(X, y, test_size = 0.2, random_state = 1)"
      ],
      "execution_count": 236,
      "outputs": []
    },
    {
      "cell_type": "code",
      "metadata": {
        "id": "GuwQhFdKrYTM",
        "colab": {
          "base_uri": "https://localhost:8080/"
        },
        "outputId": "961ab751-a362-4b34-e46c-96413089ad04"
      },
      "source": [
        "print(X_train)"
      ],
      "execution_count": 237,
      "outputs": [
        {
          "output_type": "stream",
          "text": [
            "      Age  DistanceFromHome  ...  OverTime_No  OverTime_Yes\n",
            "163    57                24  ...            0             1\n",
            "47     37                19  ...            1             0\n",
            "1085   31                 3  ...            1             0\n",
            "98     58                10  ...            1             0\n",
            "942    36                10  ...            1             0\n",
            "...   ...               ...  ...          ...           ...\n",
            "715    33                 1  ...            0             1\n",
            "905    29                 1  ...            1             0\n",
            "1096   40                 6  ...            0             1\n",
            "235    43                16  ...            0             1\n",
            "1061   24                13  ...            1             0\n",
            "\n",
            "[1176 rows x 37 columns]\n"
          ],
          "name": "stdout"
        }
      ]
    },
    {
      "cell_type": "code",
      "metadata": {
        "id": "TUrX_Tvcrbi4",
        "colab": {
          "base_uri": "https://localhost:8080/"
        },
        "outputId": "fcfda877-3dc0-4b0c-8fc8-1ffb04ffb5e9"
      },
      "source": [
        "print(X_test)"
      ],
      "execution_count": 228,
      "outputs": [
        {
          "output_type": "stream",
          "text": [
            "      Age  DistanceFromHome  ...  OverTime_No  OverTime_Yes\n",
            "1291   37                10  ...            1             0\n",
            "1153   18                 3  ...            0             1\n",
            "720    30                22  ...            0             1\n",
            "763    34                10  ...            0             1\n",
            "976    56                23  ...            0             1\n",
            "...   ...               ...  ...          ...           ...\n",
            "302    28                16  ...            1             0\n",
            "443    22                 4  ...            1             0\n",
            "701    53                 2  ...            1             0\n",
            "309    31                 5  ...            0             1\n",
            "845    40                26  ...            0             1\n",
            "\n",
            "[294 rows x 37 columns]\n"
          ],
          "name": "stdout"
        }
      ]
    },
    {
      "cell_type": "code",
      "metadata": {
        "id": "pSMHiIsWreQY",
        "colab": {
          "base_uri": "https://localhost:8080/"
        },
        "outputId": "6464b424-1821-4d07-9c61-aa41fd432295"
      },
      "source": [
        "print(y_train)"
      ],
      "execution_count": 229,
      "outputs": [
        {
          "output_type": "stream",
          "text": [
            "163     0\n",
            "47      0\n",
            "1085    1\n",
            "98      0\n",
            "942     0\n",
            "       ..\n",
            "715     0\n",
            "905     0\n",
            "1096    0\n",
            "235     0\n",
            "1061    0\n",
            "Name: Attrition, Length: 1176, dtype: int64\n"
          ],
          "name": "stdout"
        }
      ]
    },
    {
      "cell_type": "code",
      "metadata": {
        "id": "I_tW7H56rgtW",
        "colab": {
          "base_uri": "https://localhost:8080/"
        },
        "outputId": "c0ef23be-e8c9-4201-d84f-620541351c2e"
      },
      "source": [
        "print(y_test)"
      ],
      "execution_count": 230,
      "outputs": [
        {
          "output_type": "stream",
          "text": [
            "1291    1\n",
            "1153    1\n",
            "720     1\n",
            "763     0\n",
            "976     0\n",
            "       ..\n",
            "302     0\n",
            "443     1\n",
            "701     0\n",
            "309     0\n",
            "845     0\n",
            "Name: Attrition, Length: 294, dtype: int64\n"
          ],
          "name": "stdout"
        }
      ]
    },
    {
      "cell_type": "markdown",
      "metadata": {
        "id": "TpGqbS4TqkIR"
      },
      "source": [
        "## 1.6Feature Scaling"
      ]
    },
    {
      "cell_type": "markdown",
      "metadata": {
        "id": "amxMaiZmrW6q"
      },
      "source": [
        "Change numeric value to Z-transformation to reduce the deviation from final dataset (Not include variable previously catagory because it might change the interpretion)"
      ]
    },
    {
      "cell_type": "code",
      "metadata": {
        "id": "AxjSUXFQqo-3",
        "colab": {
          "base_uri": "https://localhost:8080/"
        },
        "outputId": "d710be42-9cf1-426a-fae6-fc7949208df6"
      },
      "source": [
        "from sklearn.preprocessing import StandardScaler\n",
        "sc = StandardScaler()\n",
        "X_train.iloc[:,:15] = sc.fit_transform(X_train.iloc[:,:15])\n",
        "X_test.iloc[:,:15] = sc.transform(X_test.iloc[:,:15])"
      ],
      "execution_count": 244,
      "outputs": [
        {
          "output_type": "stream",
          "text": [
            "/usr/local/lib/python3.6/dist-packages/pandas/core/indexing.py:1734: SettingWithCopyWarning: \n",
            "A value is trying to be set on a copy of a slice from a DataFrame.\n",
            "Try using .loc[row_indexer,col_indexer] = value instead\n",
            "\n",
            "See the caveats in the documentation: https://pandas.pydata.org/pandas-docs/stable/user_guide/indexing.html#returning-a-view-versus-a-copy\n",
            "  isetter(loc, value[:, i].tolist())\n",
            "/usr/local/lib/python3.6/dist-packages/pandas/core/indexing.py:1734: SettingWithCopyWarning: \n",
            "A value is trying to be set on a copy of a slice from a DataFrame.\n",
            "Try using .loc[row_indexer,col_indexer] = value instead\n",
            "\n",
            "See the caveats in the documentation: https://pandas.pydata.org/pandas-docs/stable/user_guide/indexing.html#returning-a-view-versus-a-copy\n",
            "  isetter(loc, value[:, i].tolist())\n"
          ],
          "name": "stderr"
        }
      ]
    },
    {
      "cell_type": "code",
      "metadata": {
        "id": "DWPET8ZdlMnu",
        "colab": {
          "base_uri": "https://localhost:8080/"
        },
        "outputId": "0a12ecd4-02d6-410a-8043-6f3451928d96"
      },
      "source": [
        "print(X_train)"
      ],
      "execution_count": 245,
      "outputs": [
        {
          "output_type": "stream",
          "text": [
            "           Age  DistanceFromHome  ...  OverTime_No  OverTime_Yes\n",
            "163   2.182386          1.820859  ...            0             1\n",
            "47   -0.010723          1.204862  ...            1             0\n",
            "1085 -0.668656         -0.766330  ...            1             0\n",
            "98    2.292042          0.096066  ...            1             0\n",
            "942  -0.120379          0.096066  ...            1             0\n",
            "...        ...               ...  ...          ...           ...\n",
            "715  -0.449345         -1.012729  ...            0             1\n",
            "905  -0.887967         -1.012729  ...            1             0\n",
            "1096  0.318243         -0.396732  ...            0             1\n",
            "235   0.647210          0.835263  ...            0             1\n",
            "1061 -1.436244          0.465665  ...            1             0\n",
            "\n",
            "[1176 rows x 37 columns]\n"
          ],
          "name": "stdout"
        }
      ]
    },
    {
      "cell_type": "code",
      "metadata": {
        "id": "sTXykB_QlRjE",
        "colab": {
          "base_uri": "https://localhost:8080/"
        },
        "outputId": "b1b21e62-7258-4572-e56f-a134a5e61c7a"
      },
      "source": [
        "print(X_test)"
      ],
      "execution_count": 246,
      "outputs": [
        {
          "output_type": "stream",
          "text": [
            "           Age  DistanceFromHome  ...  OverTime_No  OverTime_Yes\n",
            "1291 -0.010723          0.096066  ...            1             0\n",
            "1153 -2.094177         -0.766330  ...            0             1\n",
            "720  -0.778311          1.574460  ...            0             1\n",
            "763  -0.339690          0.096066  ...            0             1\n",
            "976   2.072731          1.697660  ...            0             1\n",
            "...        ...               ...  ...          ...           ...\n",
            "302  -0.997622          0.835263  ...            1             0\n",
            "443  -1.655555         -0.643131  ...            1             0\n",
            "701   1.743765         -0.889530  ...            1             0\n",
            "309  -0.668656         -0.519931  ...            0             1\n",
            "845   0.318243          2.067258  ...            0             1\n",
            "\n",
            "[294 rows x 37 columns]\n"
          ],
          "name": "stdout"
        }
      ]
    },
    {
      "cell_type": "markdown",
      "metadata": {
        "id": "37puETfgRzzg"
      },
      "source": [
        "# 2.Data modeling"
      ]
    },
    {
      "cell_type": "markdown",
      "metadata": {
        "id": "nOHWv5sSm_F4"
      },
      "source": [
        "## 2.1Logistic Regression method"
      ]
    },
    {
      "cell_type": "code",
      "metadata": {
        "colab": {
          "base_uri": "https://localhost:8080/"
        },
        "id": "_hn8MoEfm-cs",
        "outputId": "d8a41469-22a6-4445-a524-31454dd1c8b0"
      },
      "source": [
        "from sklearn.linear_model import LogisticRegression # import supervior ML which is logisticregression\n",
        "logis_regressor = LogisticRegression() # Create a logistic regression classifier \n",
        "logis_regressor.fit(X_train, y_train) # Train the model using the training sets "
      ],
      "execution_count": 247,
      "outputs": [
        {
          "output_type": "execute_result",
          "data": {
            "text/plain": [
              "LogisticRegression(C=1.0, class_weight=None, dual=False, fit_intercept=True,\n",
              "                   intercept_scaling=1, l1_ratio=None, max_iter=100,\n",
              "                   multi_class='auto', n_jobs=None, penalty='l2',\n",
              "                   random_state=None, solver='lbfgs', tol=0.0001, verbose=0,\n",
              "                   warm_start=False)"
            ]
          },
          "metadata": {
            "tags": []
          },
          "execution_count": 247
        }
      ]
    },
    {
      "cell_type": "code",
      "metadata": {
        "id": "L3D4HF0IssTP"
      },
      "source": [
        "y_predict = logis_regressor.predict(X_test) # predict on the test data"
      ],
      "execution_count": 249,
      "outputs": []
    },
    {
      "cell_type": "code",
      "metadata": {
        "colab": {
          "base_uri": "https://localhost:8080/"
        },
        "id": "93lIUPEws3ly",
        "outputId": "59be492b-8c06-4a7a-c484-801d152deeea"
      },
      "source": [
        "print(y_predict)"
      ],
      "execution_count": 250,
      "outputs": [
        {
          "output_type": "stream",
          "text": [
            "[0 1 1 1 0 0 0 0 0 0 0 0 1 0 0 0 0 0 1 0 0 0 0 0 0 0 0 0 0 0 0 0 0 0 1 0 0\n",
            " 0 0 0 0 0 0 0 0 0 0 1 0 0 0 0 0 0 0 0 0 0 0 0 0 0 0 1 0 0 0 0 0 0 0 0 0 0\n",
            " 1 0 0 0 0 0 0 0 1 1 1 0 0 0 0 0 0 0 0 0 0 0 0 0 0 0 0 0 0 0 0 0 0 0 0 0 0\n",
            " 0 0 0 0 0 0 1 0 0 0 0 0 0 0 0 0 0 0 0 0 0 0 0 0 0 0 0 0 0 1 0 0 0 0 0 0 0\n",
            " 1 0 0 0 0 0 0 0 1 0 0 0 0 1 0 0 0 0 0 0 0 0 0 0 0 0 0 1 0 0 0 1 0 0 0 0 0\n",
            " 0 0 0 0 0 0 0 0 0 0 0 0 0 0 0 0 0 0 0 0 0 0 1 1 0 0 0 0 0 0 0 0 0 0 0 0 0\n",
            " 0 0 0 0 0 0 0 0 0 0 0 0 0 0 0 0 0 0 0 0 0 0 0 0 0 0 0 0 0 0 0 0 0 0 0 0 0\n",
            " 0 0 0 0 0 0 0 0 0 0 0 0 0 0 0 1 0 0 0 0 0 0 0 0 0 0 0 0 0 0 0 0 0 0 0]\n"
          ],
          "name": "stdout"
        }
      ]
    },
    {
      "cell_type": "markdown",
      "metadata": {
        "id": "bCmoBlQst0aw"
      },
      "source": [
        "# 3.Data evaluation"
      ]
    },
    {
      "cell_type": "markdown",
      "metadata": {
        "id": "dRWa1ccEt5nb"
      },
      "source": [
        "## 3.1 Evaluation of logistic regression"
      ]
    },
    {
      "cell_type": "code",
      "metadata": {
        "colab": {
          "base_uri": "https://localhost:8080/"
        },
        "id": "k9IeNZmos87-",
        "outputId": "b4844284-89bd-4ed9-d08e-a95d2bd5d738"
      },
      "source": [
        "from sklearn import metrics\n",
        "logis_accur = round( metrics.accuracy_score(y_test, y_predict) * 100, 2 )\n",
        "print( 'Total Accuracy : ', logis_accur )\n",
        "print( 'Precision : ', round( metrics.precision_score(y_test, y_predict) * 100, 2 ) )\n",
        "print( 'Recall : ', round( metrics.recall_score(y_test, y_predict) * 100, 2 ) )"
      ],
      "execution_count": 252,
      "outputs": [
        {
          "output_type": "stream",
          "text": [
            "Total Accuracy :  81.63\n",
            "Precision :  59.09\n",
            "Recall :  22.41\n"
          ],
          "name": "stdout"
        }
      ]
    }
  ]
}